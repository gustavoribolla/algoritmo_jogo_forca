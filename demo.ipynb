{
 "cells": [
  {
   "cell_type": "markdown",
   "metadata": {},
   "source": [
    "Import de Bibliotecas"
   ]
  },
  {
   "cell_type": "code",
   "execution_count": 12,
   "metadata": {},
   "outputs": [],
   "source": [
    "from JogoDeForca import JogoDeForca\n",
    "import requests \n",
    "from funcoes import *"
   ]
  },
  {
   "cell_type": "markdown",
   "metadata": {},
   "source": [
    "Leitura do arquivo com as palavras utilizadas"
   ]
  },
  {
   "cell_type": "code",
   "execution_count": 13,
   "metadata": {},
   "outputs": [],
   "source": [
    "url = 'https://www.ime.usp.br/~pf/dicios/br-sem-acentos.txt'\n",
    "r = requests.get(url, allow_redirects=True)\n",
    "if r.status_code==200:\n",
    "    content = str(r.content.decode()).split('\\n')"
   ]
  },
  {
   "cell_type": "markdown",
   "metadata": {},
   "source": [
    "Algoritmo com 100 Jogos de Forca"
   ]
  },
  {
   "cell_type": "code",
   "execution_count": 14,
   "metadata": {},
   "outputs": [
    {
     "name": "stdout",
     "output_type": "stream",
     "text": [
      "Ganhou!\n",
      "Ganhou!\n",
      "Ganhou!\n",
      "Ganhou!\n",
      "Ganhou!\n",
      "Ganhou!\n",
      "Ganhou!\n",
      "Ganhou!\n",
      "Ganhou!\n",
      "Ganhou!\n",
      "Ganhou!\n",
      "Ganhou!\n",
      "Ganhou!\n",
      "Ganhou!\n",
      "Ganhou!\n",
      "Ganhou!\n",
      "Ganhou!\n",
      "Ganhou!\n",
      "Ganhou!\n",
      "Ganhou!\n",
      "Ganhou!\n",
      "Ganhou!\n",
      "Ganhou!\n",
      "Ganhou!\n",
      "Ganhou!\n",
      "Ganhou!\n",
      "Ganhou!\n",
      "Ganhou!\n",
      "Ganhou!\n",
      "Ganhou!\n",
      "Fim de jogo!\n",
      "Não foi possível adivinhar a palavra leva\n",
      "Ganhou!\n",
      "Ganhou!\n",
      "Ganhou!\n",
      "Ganhou!\n",
      "Ganhou!\n",
      "Ganhou!\n",
      "Ganhou!\n",
      "Ganhou!\n",
      "Ganhou!\n",
      "Ganhou!\n",
      "Ganhou!\n",
      "Ganhou!\n",
      "Ganhou!\n",
      "Ganhou!\n",
      "Ganhou!\n",
      "Ganhou!\n",
      "Ganhou!\n",
      "Fim de jogo!\n",
      "Não foi possível adivinhar a palavra regozijei\n",
      "Ganhou!\n",
      "Ganhou!\n",
      "Ganhou!\n",
      "Ganhou!\n",
      "Ganhou!\n",
      "Ganhou!\n",
      "Ganhou!\n",
      "Ganhou!\n",
      "Ganhou!\n",
      "Ganhou!\n",
      "Ganhou!\n",
      "Ganhou!\n",
      "Ganhou!\n",
      "Ganhou!\n",
      "Ganhou!\n",
      "Ganhou!\n",
      "Ganhou!\n",
      "Ganhou!\n",
      "Ganhou!\n",
      "Ganhou!\n",
      "Fim de jogo!\n",
      "Não foi possível adivinhar a palavra sazonaram\n",
      "Ganhou!\n",
      "Ganhou!\n",
      "Ganhou!\n",
      "Ganhou!\n",
      "Ganhou!\n",
      "Ganhou!\n",
      "Ganhou!\n",
      "Ganhou!\n",
      "Fim de jogo!\n",
      "Não foi possível adivinhar a palavra mola\n",
      "Ganhou!\n",
      "Ganhou!\n",
      "Ganhou!\n",
      "Ganhou!\n",
      "Ganhou!\n",
      "Ganhou!\n",
      "Ganhou!\n",
      "Ganhou!\n",
      "Ganhou!\n",
      "Ganhou!\n",
      "Ganhou!\n",
      "Ganhou!\n",
      "Ganhou!\n",
      "Ganhou!\n",
      "Ganhou!\n",
      "Ganhou!\n",
      "Ganhou!\n",
      "Fim de jogo!\n",
      "Não foi possível adivinhar a palavra bufamo\n",
      "Ganhou!\n",
      "Ganhou!\n",
      "Ganhou!\n"
     ]
    }
   ],
   "source": [
    "palavras_adivinhadas = []\n",
    "palavras_erradas = []\n",
    "\n",
    "# Loop para realizar 100 jogos de forca\n",
    "for i in range(100):\n",
    "    # Inicia variáveis para cada iteração (Jogo, Tamanho, Letras Jogadas, Lista da Palavra iniciada em \"False\", \n",
    "    #                                      Índices (variável inicada em True para ver se a letra está na palavra) e Dicoinário)\n",
    "    Jogo = JogoDeForca() \n",
    "    tamanho = Jogo.novo_jogo()  \n",
    "    letras_jogadas = []  \n",
    "    palavra = [None for i in range(tamanho)] \n",
    "    indices = True\n",
    "    dicionario = remove_palavra_por_tamanho(content, tamanho)  # Filtra o dicionário de palavras pelo tamanho\n",
    "    \n",
    "    # Enquanto ainda houver letras não adivinhadas na palavra\n",
    "    while None in palavra: \n",
    "        quant = calcula_quant_letra(dicionario)  # Calcula a quantidade de cada letra no dicionário\n",
    "        probs = calcula_probabilidade(quant)  # Calcula as probabilidades de cada letra\n",
    "        letra = maior_probabilidade(probs, letras_jogadas)  # Obtém a letra com maior probabilidade\n",
    "        indices = Jogo.tentar_letra(letra)  # Tenta adivinhar a letra e retorna os índices onde ela está\n",
    "        \n",
    "        # Se a letra tentada não estiver na palavra\n",
    "        if indices == False:\n",
    "            break \n",
    "        \n",
    "        letras_jogadas.append(letra)  # Adiciona a letra à lista de letras jogadas\n",
    "        \n",
    "        # Se houver índices retornados\n",
    "        if indices:\n",
    "            # Para cada índice retornado\n",
    "            for indices in indices:\n",
    "                dicionario = remove_palavra_por_indice(dicionario, indices, letra)  # Filtra o dicionário pelos índices\n",
    "                palavra[indices] = letra  # Atualiza a palavra adivinhada com a letra correta\n",
    "        else:\n",
    "            dicionario = remove_palavra_por_letra(dicionario, letra)  # Filtra o dicionário pela letra tentada\n",
    "            \n",
    "    # Se ainda houver letras não adivinhadas na palavra\n",
    "    if None in palavra:\n",
    "        print(f'Não foi possível adivinhar a palavra {Jogo.palavra}')\n",
    "        palavras_erradas.append(Jogo.palavra)  \n",
    "    else:\n",
    "        palavras_adivinhadas.append(Jogo.palavra)\n",
    "        Jogo.tentar_palavra(''.join(palavra))  # Tenta adivinhar a palavra completa"
   ]
  },
  {
   "cell_type": "markdown",
   "metadata": {},
   "source": [
    "Pocentagem de acerto de nosso Algoritmo"
   ]
  },
  {
   "cell_type": "code",
   "execution_count": 15,
   "metadata": {},
   "outputs": [
    {
     "name": "stdout",
     "output_type": "stream",
     "text": [
      "Porcentagem de acerto: 95%\n"
     ]
    }
   ],
   "source": [
    "# Imprime a porcentagem de acertos dado nossa amostra de 100 Jogos de Forca\n",
    "print(f\"Porcentagem de acerto: {len(palavras_adivinhadas)}%\")"
   ]
  }
 ],
 "metadata": {
  "kernelspec": {
   "display_name": ".venv",
   "language": "python",
   "name": "python3"
  },
  "language_info": {
   "codemirror_mode": {
    "name": "ipython",
    "version": 3
   },
   "file_extension": ".py",
   "mimetype": "text/x-python",
   "name": "python",
   "nbconvert_exporter": "python",
   "pygments_lexer": "ipython3",
   "version": "3.12.3"
  }
 },
 "nbformat": 4,
 "nbformat_minor": 2
}
